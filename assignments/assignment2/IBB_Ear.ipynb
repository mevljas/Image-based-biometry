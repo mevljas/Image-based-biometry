{
  "nbformat": 4,
  "nbformat_minor": 0,
  "metadata": {
    "colab": {
      "provenance": [],
      "gpuType": "T4"
    },
    "kernelspec": {
      "name": "python3",
      "display_name": "Python 3"
    },
    "language_info": {
      "name": "python"
    },
    "accelerator": "GPU"
  },
  "cells": [
    {
      "cell_type": "code",
      "execution_count": null,
      "metadata": {
        "id": "P0djQLrBH3eZ"
      },
      "outputs": [],
      "source": [
        "from google.colab import drive\n",
        "drive.mount('/content/drive', force_remount=True)\n",
        "%cd \"drive/MyDrive/IBB/yolov8-ears\""
      ]
    },
    {
      "cell_type": "code",
      "source": [
        "# INSTALLATION:\n",
        "!pip install -r requirements.txt\n",
        "!pip install ultralytics"
      ],
      "metadata": {
        "id": "Tlk0SO6guJ3D"
      },
      "execution_count": null,
      "outputs": []
    },
    {
      "cell_type": "code",
      "source": [
        "!python train.py"
      ],
      "metadata": {
        "id": "HPoqxejW3Xl8"
      },
      "execution_count": null,
      "outputs": []
    },
    {
      "cell_type": "code",
      "source": [
        "!python predict.py"
      ],
      "metadata": {
        "id": "a1DVEUp17ObK"
      },
      "execution_count": null,
      "outputs": []
    }
  ]
}